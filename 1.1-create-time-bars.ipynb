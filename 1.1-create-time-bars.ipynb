{
 "cells": [
  {
   "cell_type": "code",
   "execution_count": 8,
   "metadata": {},
   "outputs": [],
   "source": [
    "import os\n",
    "import glob\n",
    "import pandas as pd\n",
    "import fastparquet\n",
    "\n",
    "IDIR = 'data/clean_tick/'"
   ]
  },
  {
   "cell_type": "code",
   "execution_count": 9,
   "metadata": {},
   "outputs": [],
   "source": [
    "def save_bars(df, path_to_file):\n",
    "    if (os.path.exists(path_to_file)):\n",
    "        fastparquet.write(path_to_file, df, append=True)\n",
    "    else:\n",
    "        fastparquet.write(path_to_file, df)"
   ]
  },
  {
   "cell_type": "code",
   "execution_count": 10,
   "metadata": {},
   "outputs": [],
   "source": [
    "def get_time_bars(df, freq):\n",
    "    time_bars = df.resample(freq, label='right').agg({'price': 'ohlc', 'volume': 'sum'})\n",
    "    time_bars.columns = time_bars.columns.droplevel()\n",
    "    time_bars.dropna(subset=['close'], inplace=True)\n",
    "    return time_bars    "
   ]
  },
  {
   "cell_type": "code",
   "execution_count": 11,
   "metadata": {},
   "outputs": [
    {
     "data": {
      "text/plain": [
       "['data/clean_tick/Y2017.parq',\n",
       " 'data/clean_tick/Y2018_1.parq',\n",
       " 'data/clean_tick/Y2018_2.parq',\n",
       " 'data/clean_tick/Y2018_3.parq',\n",
       " 'data/clean_tick/Y2019_1.parq']"
      ]
     },
     "execution_count": 11,
     "metadata": {},
     "output_type": "execute_result"
    }
   ],
   "source": [
    "files = sorted(glob.glob(IDIR + 'Y*.parq'))\n",
    "files"
   ]
  },
  {
   "cell_type": "code",
   "execution_count": 13,
   "metadata": {},
   "outputs": [],
   "source": [
    "frequencies = ['1Min', '5Min', '10Min', '15Min', '30Min']\n",
    "folders = [freq.lower() for freq in frequencies]\n",
    "\n",
    "for file in files:\n",
    "    df = pd.read_parquet(file)\n",
    "    for freq, folder in (zip(frequencies, folders)):\n",
    "        time_bars = get_time_bars(df, freq)\n",
    "        save_bars(time_bars, f'data/{folder}/time.parq')"
   ]
  }
 ],
 "metadata": {
  "kernelspec": {
   "display_name": "Python [conda env:financial-ml] *",
   "language": "python",
   "name": "conda-env-financial-ml-py"
  },
  "language_info": {
   "codemirror_mode": {
    "name": "ipython",
    "version": 3
   },
   "file_extension": ".py",
   "mimetype": "text/x-python",
   "name": "python",
   "nbconvert_exporter": "python",
   "pygments_lexer": "ipython3",
   "version": "3.6.10"
  }
 },
 "nbformat": 4,
 "nbformat_minor": 4
}
